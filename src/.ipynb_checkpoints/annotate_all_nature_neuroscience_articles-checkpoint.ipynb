{
 "cells": [
  {
   "cell_type": "code",
   "execution_count": 21,
   "metadata": {},
   "outputs": [],
   "source": [
    "# pip install sparqlwrapper\n",
    "# https://rdflib.github.io/sparqlwrapper/\n",
    "\n",
    "from SPARQLWrapper import SPARQLWrapper, JSON\n",
    "\n",
    "endpoint_url = \"https://query.wikidata.org/sparql\"\n",
    "\n",
    "query = \"\"\"SELECT ?item ?itemLabel\n",
    "WHERE { \n",
    "  ?item wdt:P31 wd:Q13442814.\n",
    "  ?item wdt:P1433 wd:Q1535359.\n",
    "  ?item rdfs:label ?itemLabel.\n",
    "} limit 100\n",
    "\"\"\"\n",
    "\n",
    "\n",
    "def get_results(endpoint_url, query):\n",
    "    sparql = SPARQLWrapper(endpoint_url)\n",
    "    sparql.setQuery(query)\n",
    "    sparql.setReturnFormat(JSON)\n",
    "    return sparql.query().convert()\n",
    "\n",
    "\n",
    "results = get_results(endpoint_url, query)\n"
   ]
  },
  {
   "cell_type": "code",
   "execution_count": 26,
   "metadata": {},
   "outputs": [
    {
     "name": "stdout",
     "output_type": "stream",
     "text": [
      "CLF associates with CLC to form a functional heteromeric ligand for the CNTF receptor complex\n",
      "Imagined gait modulates neuronal network dynamics in the human pedunculopontine nucleus\n",
      "()\n",
      "Reversible switching between epigenetic states in honeybee behavioral subcastes\n",
      "()\n",
      "Snapin: a SNARE-associated protein implicated in synaptic transmission\n",
      "(SNARE,)\n",
      "SNARE - GPE - Countries, cities, states\n",
      "The septin CDCrel-1 binds syntaxin and inhibits exocytosis\n",
      "(CDCrel-1,)\n",
      "CDCrel-1 - CARDINAL - Numerals that do not fall under another type\n",
      "Furin mediates enhanced production of fibrillogenic ABri peptides in familial British dementia\n",
      "(British,)\n",
      "British - NORP - Nationalities or religious or political groups\n",
      "Ggamma13 colocalizes with gustducin in taste receptor cells and mediates IP3 responses to bitter denatonium\n",
      "()\n",
      "A critical period for right hemisphere recruitment in American Sign Language processing\n",
      "(American Sign Language,)\n",
      "American Sign Language - ORG - Companies, agencies, institutions, etc.\n",
      "Brain scam?\n",
      "()\n",
      "Breaking news: thinking may be bad for DNA\n",
      "()\n",
      "Time to give up on a single explanation for autism\n",
      "()\n",
      "Humans and great apes share a large frontal cortex\n",
      "()\n",
      "Dissecting demyelination\n",
      "()\n",
      "Large-scale recording of neuronal ensembles\n",
      "()\n",
      "Multiple neural spike train data analysis: state-of-the-art and future challenges\n",
      "()\n",
      "A taste for umami\n",
      "()\n",
      "A metabotropic glutamate receptor variant functions as a taste receptor\n",
      "()\n",
      "The evolution of brain activation during temporal processing\n",
      "()\n",
      "Expertise for cars and birds recruits brain areas involved in face recognition\n",
      "()\n",
      "Changing value through cued approach: an automatic mechanism of behavior change.\n",
      "()\n",
      "Changing value through cued approach: an automatic mechanism of behavior change\n",
      "()\n",
      "Changing value through cued approach: an automatic mechanism of behavior change.\n",
      "()\n",
      "Changing value through cued approach: an automatic mechanism of behavior change\n",
      "()\n",
      "Lipidomics identifies cardiolipin oxidation as a mitochondrial target for redox therapy of brain injury\n",
      "()\n",
      "Non-invasive mapping of connections between human thalamus and cortex using diffusion imaging\n",
      "()\n",
      "CLF associates with CLC to form a functional heteromeric ligand for the CNTF receptor complex\n",
      "(CLF, CNTF)\n",
      "CLF - ORG - Companies, agencies, institutions, etc.\n",
      "CNTF - ORG - Companies, agencies, institutions, etc.\n"
     ]
    }
   ],
   "source": [
    "sen = nlp(title)\n",
    "print(sen.text)\n",
    "\n",
    "import os.path as p\n",
    "import spacy\n",
    "\n",
    "nlp = spacy.load(\"en_core_web_sm\") \n",
    "titlenew = \"\"\n",
    "for result in results[\"results\"][\"bindings\"]:\n",
    "    title = result['itemLabel']['value']\n",
    "    \n",
    "    if (titlenew != title):\n",
    "            sen = nlp(title)\n",
    "            print(sen.text)\n",
    "            print(sen.ents)\n",
    "            for entity in sen.ents:\n",
    "                print(entity.text + ' - ' + entity.label_ + ' - ' + str(spacy.explain(entity.label_)))\n",
    "    \n",
    "    \n",
    "    titlenew = title\n",
    "    \n",
    "\n"
   ]
  },
  {
   "cell_type": "code",
   "execution_count": 9,
   "metadata": {},
   "outputs": [],
   "source": []
  },
  {
   "cell_type": "code",
   "execution_count": 17,
   "metadata": {},
   "outputs": [
    {
     "name": "stdout",
     "output_type": "stream",
     "text": [
      "Manchester United is looking to sign Harry Kane for $90 million\n"
     ]
    }
   ],
   "source": [
    "\n"
   ]
  },
  {
   "cell_type": "code",
   "execution_count": 18,
   "metadata": {},
   "outputs": [
    {
     "name": "stdout",
     "output_type": "stream",
     "text": [
      "Manchester   PROPN      NNP      noun, proper singular\n",
      "United       PROPN      NNP      noun, proper singular\n",
      "is           AUX        VBZ      verb, 3rd person singular present\n",
      "looking      VERB       VBG      verb, gerund or present participle\n",
      "to           PART       TO       infinitival \"to\"\n",
      "sign         VERB       VB       verb, base form\n",
      "Harry        PROPN      NNP      noun, proper singular\n",
      "Kane         PROPN      NNP      noun, proper singular\n",
      "for          ADP        IN       conjunction, subordinating or preposition\n",
      "$            SYM        $        symbol, currency\n",
      "90           NUM        CD       cardinal number\n",
      "million      NUM        CD       cardinal number\n"
     ]
    }
   ],
   "source": []
  },
  {
   "cell_type": "code",
   "execution_count": 19,
   "metadata": {},
   "outputs": [
    {
     "name": "stdout",
     "output_type": "stream",
     "text": [
      "(Manchester United, Harry Kane, $90 million)\n"
     ]
    }
   ],
   "source": []
  },
  {
   "cell_type": "code",
   "execution_count": null,
   "metadata": {},
   "outputs": [],
   "source": []
  }
 ],
 "metadata": {
  "kernelspec": {
   "display_name": "Python 3",
   "language": "python",
   "name": "python3"
  },
  "language_info": {
   "codemirror_mode": {
    "name": "ipython",
    "version": 3
   },
   "file_extension": ".py",
   "mimetype": "text/x-python",
   "name": "python",
   "nbconvert_exporter": "python",
   "pygments_lexer": "ipython3",
   "version": "3.6.5"
  }
 },
 "nbformat": 4,
 "nbformat_minor": 4
}
